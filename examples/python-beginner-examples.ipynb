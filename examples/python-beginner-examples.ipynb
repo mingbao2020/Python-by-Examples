{
 "cells": [
  {
   "cell_type": "markdown",
   "metadata": {},
   "source": [
    "# Python Biginner Examples"
   ]
  },
  {
   "cell_type": "markdown",
   "metadata": {},
   "source": [
    "1. Datatypes\n",
    "2. Flow Control\n",
    "3. Functions\n",
    "4. File Handling\n",
    "5. Object & Class"
   ]
  },
  {
   "cell_type": "markdown",
   "metadata": {},
   "source": [
    "### 1. Datatypes: Boolean, Numbers, Strings, Bytes & Byte Arrays, Lists, Tuples, Sets, Dictionaries"
   ]
  },
  {
   "cell_type": "code",
   "execution_count": 2,
   "metadata": {},
   "outputs": [
    {
     "name": "stdout",
     "output_type": "stream",
     "text": [
      "True\n",
      "num1 is 125\n",
      "num2 is 10\n",
      "num3 is 10.666666666666666\n",
      "str3 is Welcome to Edureka's Python Programming Blog\n",
      "Welcome to\n",
      " Blog\n",
      "Welcome to Edureka's Python Programming\n",
      "5\n",
      "['India', 'Australia', 'United States', 'Canada', 'Singapore']\n",
      "['India', 'Australia', 'United States', 'Canada', 'Singapore', 'Brazil']\n",
      "['India', 'Australia', 'United Kingdom', 'United States', 'Canada', 'Singapore', 'Brazil']\n",
      "['Cricket', 'Basketball', 'Football', 'Baseball']\n",
      "('Cricket', 'Basketball', 'Football')\n",
      "Indian Government has  {'Legislature': 'Parliament', 'Executive': 'PM & Cabinet', 'Judiciary': 'Supreme Court'}\n",
      "USA Government has  {'Legislature': 'Congress', 'Executive': 'President & Cabinet', 'Judiciary': 'Supreme Court'}\n"
     ]
    }
   ],
   "source": [
    "#Boolean\n",
    "number = [1,2,3,4,5]\n",
    "boolean = 3 in number\n",
    "print(boolean)\n",
    " \n",
    "#Numbers\n",
    "num1 = 5**3\n",
    "num2 = 32//3\n",
    "num3 = 32/3\n",
    "print('num1 is',num1)\n",
    "print('num2 is',num2)\n",
    "print('num3 is',num3)\n",
    " \n",
    "#Strings\n",
    "str1 = \"Welcome\"\n",
    "str2 = \" to Edureka's Python Programming Blog\"\n",
    "str3 = str1 + str2\n",
    "print('str3 is',str3)\n",
    "print(str3[0:10])\n",
    "print(str3[-5:])\n",
    "print(str3[:-5])\n",
    " \n",
    "#Lists\n",
    "countries = ['India', 'Australia', 'United States', 'Canada', 'Singapore']\n",
    "print(len(countries))\n",
    "print(countries)\n",
    "countries.append('Brazil')\n",
    "print(countries)\n",
    "countries.insert(2, 'United Kingdom')\n",
    "print(countries)\n",
    " \n",
    "#Tuples\n",
    "sports_tuple = ('Cricket', 'Basketball', 'Football')\n",
    "sports_list = list(sports_tuple)\n",
    "sports_list.append('Baseball')\n",
    "print(sports_list)\n",
    "print(sports_tuple)\n",
    " \n",
    "#Dictionary\n",
    "#Indian Government\n",
    "Government = {'Legislature':'Parliament', 'Executive':'PM & Cabinet', 'Judiciary':'Supreme Court'}\n",
    "print('Indian Government has ',Government)\n",
    "#Modifying for USA\n",
    "Government['Legislature']='Congress'\n",
    "Government['Executive']='President & Cabinet'\n",
    "print('USA Government has ',Government)"
   ]
  },
  {
   "cell_type": "markdown",
   "metadata": {},
   "source": [
    "### 2. Flow Control: if, for, while, break, continue, pass"
   ]
  },
  {
   "cell_type": "markdown",
   "metadata": {},
   "source": [
    "```python\n",
    "# if statement\n",
    "if expression:\n",
    "     statement (s)\n",
    "elif expression:\n",
    "     statement (s)\n",
    "elif expression:\n",
    "     statement (s)\n",
    "...\n",
    "else:\n",
    "     statement (s)\n",
    "\n",
    "# for statement\n",
    "for target in iterable:\n",
    "     statement (s)\n",
    "\n",
    "# while statement\n",
    "count = 0\n",
    "print('Printing numbers from 0 to 9')\n",
    "while (count<10):\n",
    "   print('The count is ',count)\n",
    "   count = count+1\n",
    "print('Good Bye')\n",
    "\n",
    "# break statement\n",
    "while True:\n",
    "     x = get_next()\n",
    "     y = preprocess(x)\n",
    "     if not keep_looking(x, y): break\n",
    "     process(x, y)\n",
    "\n",
    "# continue statement\n",
    "for x in some_container:\n",
    "    if not seems_ok(x): continue\n",
    "    lowbound, highbound = bounds_to_test()\n",
    "    if x<lowbound or x>=highbound: continue\n",
    "    if final_check(x):\n",
    "        do_processing(x)\n",
    "\n",
    "# pass statement (do nothing but could play a placeholder so in below example, it make meth_a valid.)\n",
    "class MyClass(object):\n",
    "    def meth_a(self):\n",
    "        pass\n",
    "\n",
    "    def meth_b(self):\n",
    "        print \"I'm meth_b\"\n",
    "\n",
    "\n",
    "```"
   ]
  },
  {
   "cell_type": "markdown",
   "metadata": {},
   "source": [
    "### 3. Functions: "
   ]
  },
  {
   "cell_type": "code",
   "execution_count": 3,
   "metadata": {},
   "outputs": [
    {
     "name": "stdout",
     "output_type": "stream",
     "text": [
      "Enter a stringabc\n",
      "cba\n"
     ]
    }
   ],
   "source": [
    "# Defining a function to reverse a string\n",
    " \n",
    "def reverse_a_string():\n",
    "    # Reading input from console\n",
    "    a_string = input(\"Enter a string\")\n",
    "    new_strings = []\n",
    " \n",
    "    # Storing length of input string\n",
    "    index = len(a_string)\n",
    " \n",
    "    # Reversing the string using while loop\n",
    "    while index:\n",
    "        index -= 1\n",
    "        new_strings.append(a_string[index])\n",
    " \n",
    "    #Printing the reversed string\n",
    "    print(''.join(new_strings))\n",
    " \n",
    "reverse_a_string()"
   ]
  },
  {
   "cell_type": "markdown",
   "metadata": {},
   "source": [
    "### 4. File Handling"
   ]
  },
  {
   "cell_type": "code",
   "execution_count": 11,
   "metadata": {},
   "outputs": [
    {
     "name": "stdout",
     "output_type": "stream",
     "text": [
      "First Line\n",
      "\n",
      "Second Line\n",
      "\n",
      "['First Line\\n', 'Second Line\\n']\n"
     ]
    }
   ],
   "source": [
    "# create a new file\n",
    "newfile = open(\"sample.txt\", \"w\")\n",
    "newfile.write(\"First Line\\n\")\n",
    "newfile.write(\"Second Line\\n\")\n",
    "newfile.close()\n",
    "\n",
    "# read lines from a file\n",
    "file2 = open(\"sample.txt\", \"r\")\n",
    "for line in file2:\n",
    "   print (line) \n",
    "file2.close()\n",
    "\n",
    "file3 = open(\"sample.txt\", \"r\")\n",
    "text3 = file3.readlines()\n",
    "print(text3)\n",
    "file3.close()"
   ]
  },
  {
   "cell_type": "markdown",
   "metadata": {},
   "source": [
    "### 5. Object & Class"
   ]
  },
  {
   "cell_type": "code",
   "execution_count": 14,
   "metadata": {},
   "outputs": [
    {
     "name": "stdout",
     "output_type": "stream",
     "text": [
      "aayushi@edureka.co\n",
      "test@company.com\n"
     ]
    }
   ],
   "source": [
    "##### 5.1 Class with no attributes and methods\n",
    "class employee:\n",
    "    pass\n",
    "\n",
    "emp_1=employee()\n",
    "emp_2=employee()\n",
    "\n",
    "#instance variable can be created manually\n",
    "emp_1.first='aayushi'\n",
    "emp_1.last='Johari'\n",
    "emp_1.email='aayushi@edureka.co'\n",
    "emp_1.pay=10000\n",
    " \n",
    "emp_2.first='test'\n",
    "emp_2.last='abc'\n",
    "emp_2.email='test@company.com'\n",
    "emp_2.pay=10000\n",
    "print(emp_1.email)\n",
    "print(emp_2.email)"
   ]
  },
  {
   "cell_type": "code",
   "execution_count": 15,
   "metadata": {},
   "outputs": [
    {
     "name": "stdout",
     "output_type": "stream",
     "text": [
      "aayushi.johari@company.com\n",
      "test.test@company.com\n"
     ]
    }
   ],
   "source": [
    "##### 5.2 Class with default constructor and attributes\n",
    "class employee:\n",
    "    def __init__(self, first, last, sal):\n",
    "        self.fname=first\n",
    "        self.lname=last\n",
    "        self.sal=sal\n",
    "        self.email=first + '.' + last + '@company.com'\n",
    " \n",
    "emp_1=employee('aayushi','johari',350000)\n",
    "emp_2=employee('test','test',100000)\n",
    "print(emp_1.email)\n",
    "print(emp_2.email)\n",
    "\n"
   ]
  },
  {
   "cell_type": "code",
   "execution_count": 16,
   "metadata": {},
   "outputs": [
    {
     "name": "stdout",
     "output_type": "stream",
     "text": [
      "aayushi.johari@company.com\n",
      "test.test@company.com\n",
      "aayushijohari\n",
      "testtest\n"
     ]
    }
   ],
   "source": [
    "##### 5.3 Class with default constructor and methods\n",
    "class employee:\n",
    "    def __init__(self, first, last, sal):\n",
    "        self.fname=first\n",
    "        self.lname=last\n",
    "        self.sal=sal\n",
    "        self.email=first + '.' + last + '@company.com'\n",
    " \n",
    "    def fullname(self):\n",
    "            return '{}{}'.format(self.fname,self.lname)\n",
    " \n",
    "emp_1=employee('aayushi','johari',350000)\n",
    "emp_2=employee('test','test',100000)\n",
    "print(emp_1.email)\n",
    "print(emp_2.email)\n",
    "print(emp_1.fullname())\n",
    "print(emp_2.fullname())"
   ]
  },
  {
   "cell_type": "code",
   "execution_count": 17,
   "metadata": {},
   "outputs": [
    {
     "name": "stdout",
     "output_type": "stream",
     "text": [
      "aayushi.johari@company.com\n"
     ]
    }
   ],
   "source": [
    "##### 5.4 Class Inherits\n",
    "class employee:\n",
    "    num_employee=0\n",
    "    raise_amount=1.04\n",
    "    def __init__(self, first, last, sal):\n",
    "        self.first=first\n",
    "        self.last=last\n",
    "        self.sal=sal\n",
    "        self.email=first + '.' + last + '@company.com'\n",
    "        employee.num_employee+=1\n",
    "    def fullname (self):\n",
    "        return '{} {}'.format(self.first, self.last)\n",
    "    def apply_raise (self):\n",
    "        self.sal=int(self.sal * raise_amount)\n",
    "class developer(employee):\n",
    "    pass\n",
    " \n",
    "emp_1=developer('aayushi', 'johari', 1000000)\n",
    "print(emp_1.email)"
   ]
  },
  {
   "cell_type": "code",
   "execution_count": 18,
   "metadata": {},
   "outputs": [
    {
     "name": "stdout",
     "output_type": "stream",
     "text": [
      "1.1\n"
     ]
    }
   ],
   "source": [
    "##### 5.5 Class overrides attribute\n",
    "class employee:\n",
    "    num_employee=0\n",
    "    raise_amount=1.04\n",
    "    def __init__(self, first, last, sal):\n",
    "        self.first=first\n",
    "        self.last=last\n",
    "        self.sal=sal\n",
    "        self.email=first + '.' + last + '@company.com'\n",
    "        employee.num_employee+=1\n",
    "    def fullname (self):\n",
    "        return '{} {}'.format(self.first, self.last)\n",
    "    def apply_raise (self):\n",
    "        self.sal=int(self.sal* raise_amount)\n",
    " \n",
    "class developer(employee):\n",
    "    raise_amount = 1.10\n",
    " \n",
    "emp_1=developer('aayushi', 'johari', 1000000)\n",
    "print(emp_1.raise_amount)"
   ]
  },
  {
   "cell_type": "code",
   "execution_count": 19,
   "metadata": {},
   "outputs": [
    {
     "name": "stdout",
     "output_type": "stream",
     "text": [
      "python\n"
     ]
    }
   ],
   "source": [
    "##### 5.6 Class overrides constructor\n",
    "class employee:\n",
    "    num_employee=0\n",
    "    raise_amount=1.04\n",
    "    def __init__(self, first, last, sal):\n",
    "        self.first=first\n",
    "        self.last=last\n",
    "        self.sal=sal\n",
    "        self.email=first + '.' + last + '@company.com'\n",
    "        employee.num_employee+=1\n",
    "    def fullname (self):\n",
    "        return '{} {}'.format(self.first, self.last)\n",
    "    def apply_raise (self):\n",
    "        self.sal=int(self.sal* raise_amount)\n",
    "class developer(employee):\n",
    "    raise_amount = 1.10\n",
    "    def __init__(self, first, last, sal, prog_lang):\n",
    "        super().__init__(first, last, sal)\n",
    "        self.prog_lang=prog_lang\n",
    " \n",
    "emp_1=developer('aayushi', 'johari', 1000000, 'python')\n",
    "print(emp_1.prog_lang)"
   ]
  },
  {
   "cell_type": "code",
   "execution_count": 20,
   "metadata": {},
   "outputs": [
    {
     "name": "stdout",
     "output_type": "stream",
     "text": [
      "MEOW!\n",
      "Woof\n"
     ]
    }
   ],
   "source": [
    "##### 5.7 Polymorphism\n",
    "class Animal:\n",
    "    def __init__(self,name):\n",
    "        self.name=name\n",
    "        def talk(self):\n",
    "            pass\n",
    "class Dog(Animal):\n",
    "            def talk(self):\n",
    "                print('Woof')\n",
    "class Cat(Animal):\n",
    "    def talk(self):\n",
    "        print('MEOW!')\n",
    "c= Cat('kitty')\n",
    "c.talk()\n",
    "d=Dog(Animal)\n",
    "d.talk()"
   ]
  },
  {
   "cell_type": "code",
   "execution_count": 22,
   "metadata": {},
   "outputs": [
    {
     "name": "stdout",
     "output_type": "stream",
     "text": [
      "11000.0\n"
     ]
    }
   ],
   "source": [
    "##### 5.8 Abstract methods\n",
    "from abc import ABC, abstractmethod     \n",
    " \n",
    "class Employee(ABC):\n",
    "    \n",
    "    @abstractmethod\n",
    "    def calculate_salary(self,sal):\n",
    "        pass\n",
    " \n",
    "class Developer(Employee):\n",
    " \n",
    "    def calculate_salary(self,sal):\n",
    "        finalsalary= sal*1.10\n",
    "        return  finalsalary\n",
    " \n",
    "emp_1 = Developer()\n",
    "print(emp_1.calculate_salary(10000))"
   ]
  },
  {
   "cell_type": "code",
   "execution_count": null,
   "metadata": {},
   "outputs": [],
   "source": []
  }
 ],
 "metadata": {
  "kernelspec": {
   "display_name": "Python 3",
   "language": "python",
   "name": "python3"
  },
  "language_info": {
   "codemirror_mode": {
    "name": "ipython",
    "version": 3
   },
   "file_extension": ".py",
   "mimetype": "text/x-python",
   "name": "python",
   "nbconvert_exporter": "python",
   "pygments_lexer": "ipython3",
   "version": "3.6.5"
  }
 },
 "nbformat": 4,
 "nbformat_minor": 2
}
