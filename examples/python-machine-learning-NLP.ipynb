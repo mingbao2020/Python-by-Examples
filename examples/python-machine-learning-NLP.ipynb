{
 "cells": [
  {
   "cell_type": "markdown",
   "metadata": {},
   "source": [
    "# requirements:\n",
    "numpy, pandas, nltk, scikit-learn, matplotlib, seaborn "
   ]
  },
  {
   "cell_type": "markdown",
   "metadata": {},
   "source": [
    "### Download 20news groups"
   ]
  },
  {
   "cell_type": "code",
   "execution_count": 1,
   "metadata": {},
   "outputs": [],
   "source": [
    "from sklearn.datasets import fetch_20newsgroups"
   ]
  },
  {
   "cell_type": "code",
   "execution_count": 2,
   "metadata": {},
   "outputs": [],
   "source": [
    "groups = fetch_20newsgroups()"
   ]
  },
  {
   "cell_type": "code",
   "execution_count": 3,
   "metadata": {},
   "outputs": [
    {
     "data": {
      "text/plain": [
       "dict_keys(['data', 'filenames', 'target_names', 'target', 'DESCR'])"
      ]
     },
     "execution_count": 3,
     "metadata": {},
     "output_type": "execute_result"
    }
   ],
   "source": [
    "groups.keys()"
   ]
  },
  {
   "cell_type": "code",
   "execution_count": 4,
   "metadata": {},
   "outputs": [
    {
     "data": {
      "text/plain": [
       "array([ 0,  1,  2,  3,  4,  5,  6,  7,  8,  9, 10, 11, 12, 13, 14, 15, 16,\n",
       "       17, 18, 19])"
      ]
     },
     "execution_count": 4,
     "metadata": {},
     "output_type": "execute_result"
    }
   ],
   "source": [
    "import numpy as np\n",
    "np.unique(groups.target)"
   ]
  },
  {
   "cell_type": "code",
   "execution_count": 5,
   "metadata": {},
   "outputs": [
    {
     "data": {
      "text/plain": [
       "<Figure size 640x480 with 1 Axes>"
      ]
     },
     "metadata": {},
     "output_type": "display_data"
    }
   ],
   "source": [
    "# visualize target\n",
    "import seaborn as sns\n",
    "sns.distplot(groups.target)\n",
    "import matplotlib.pyplot as plt\n",
    "plt.show()"
   ]
  },
  {
   "cell_type": "markdown",
   "metadata": {},
   "source": [
    "### Preprocessing Data"
   ]
  },
  {
   "cell_type": "code",
   "execution_count": 6,
   "metadata": {
    "scrolled": true
   },
   "outputs": [
    {
     "name": "stdout",
     "output_type": "stream",
     "text": [
      "['able', 'accept', 'access', 'according', 'act', 'action', 'actually', 'add', 'address', 'ago', 'agree', 'algorithm', 'allow', 'american', 'anonymous', 'answer', 'anybody', 'apple', 'application', 'apr', 'arab', 'area', 'argument', 'armenian', 'article', 'ask', 'asked', 'assume', 'atheist', 'attack', 'attempt', 'available', 'away', 'bad', 'based', 'basic', 'belief', 'believe', 'best', 'better', 'bible', 'big', 'bike', 'bit', 'black', 'board', 'body', 'book', 'box', 'build', 'bus', 'business', 'buy', 'ca', 'california', 'called', 'came', 'car', 'card', 'care', 'carry', 'case', 'cause', 'center', 'certain', 'certainly', 'chance', 'change', 'check', 'child', 'chip', 'christian', 'church', 'city', 'claim', 'clear', 'clipper', 'code', 'college', 'color', 'come', 'coming', 'command', 'comment', 'common', 'communication', 'company', 'computer', 'computing', 'consider', 'considered', 'contact', 'control', 'controller', 'copy', 'correct', 'cost', 'country', 'couple', 'course', 'cover', 'create', 'crime', 'current', 'cut', 'data', 'day', 'db', 'deal', 'death', 'department', 'design', 'device', 'did', 'difference', 'different', 'discussion', 'disk', 'display', 'division', 'dod', 'doe', 'doing', 'drive', 'driver', 'drug', 'early', 'earth', 'easy', 'effect', 'email', 'encryption', 'end', 'engineering', 'entry', 'error', 'especially', 'event', 'evidence', 'exactly', 'example', 'expect', 'experience', 'explain', 'face', 'fact', 'faq', 'far', 'fast', 'federal', 'feel', 'figure', 'file', 'final', 'following', 'food', 'force', 'form', 'free', 'friend', 'ftp', 'function', 'game', 'general', 'getting', 'given', 'gmt', 'goal', 'god', 'going', 'good', 'got', 'government', 'graphic', 'great', 'greek', 'ground', 'group', 'guess', 'gun', 'guy', 'ha', 'hand', 'hard', 'hardware', 'having', 'head', 'health', 'hear', 'heard', 'hell', 'help', 'high', 'history', 'hit', 'hockey', 'hold', 'home', 'hope', 'house', 'human', 'ibm', 'idea', 'image', 'important', 'include', 'includes', 'including', 'individual', 'info', 'information', 'instead', 'institute', 'interested', 'interesting', 'international', 'internet', 'israeli', 'issue', 'jew', 'jewish', 'job', 'just', 'key', 'kill', 'killed', 'kind', 'know', 'known', 'la', 'large', 'later', 'law', 'le', 'lead', 'league', 'left', 'let', 'level', 'life', 'light', 'like', 'likely', 'line', 'list', 'little', 'live', 'local', 'long', 'longer', 'look', 'looking', 'lost', 'lot', 'love', 'low', 'machine', 'mail', 'main', 'major', 'make', 'making', 'man', 'manager', 'matter', 'maybe', 'mean', 'medical', 'member', 'memory', 'men', 'message', 'method', 'military', 'million', 'mind', 'mode', 'model', 'money', 'monitor', 'month', 'moral', 'mouse', 'muslim', 'na', 'nasa', 'national', 'near', 'need', 'needed', 'network', 'new', 'news', 'nice', 'north', 'note', 'number', 'offer', 'office', 'old', 'open', 'opinion', 'order', 'original', 'output', 'package', 'particular', 'past', 'pay', 'pc', 'people', 'period', 'person', 'personal', 'phone', 'place', 'play', 'player', 'point', 'police', 'policy', 'political', 'position', 'possible', 'post', 'posted', 'posting', 'power', 'president', 'press', 'pretty', 'previous', 'price', 'private', 'probably', 'problem', 'product', 'program', 'project', 'provide', 'public', 'purpose', 'question', 'quite', 'radio', 'rate', 'read', 'reading', 'real', 'really', 'reason', 'recently', 'reference', 'religion', 'religious', 'remember', 'reply', 'report', 'research', 'response', 'rest', 'result', 'return', 'right', 'road', 'rule', 'run', 'running', 'russian', 'said', 'sale', 'san', 'save', 'saw', 'say', 'saying', 'school', 'science', 'screen', 'scsi', 'second', 'section', 'security', 'seen', 'sell', 'send', 'sense', 'sent', 'serial', 'server', 'service', 'set', 'shall', 'short', 'shot', 'similar', 'simple', 'simply', 'single', 'site', 'situation', 'size', 'small', 'software', 'sort', 'sound', 'source', 'space', 'special', 'specific', 'speed', 'standard', 'start', 'started', 'state', 'statement', 'stop', 'strong', 'study', 'stuff', 'subject', 'sun', 'support', 'sure', 'taken', 'taking', 'talk', 'talking', 'tape', 'tax', 'team', 'technical', 'technology', 'tell', 'term', 'test', 'texas', 'text', 'thanks', 'thing', 'think', 'thinking', 'thought', 'time', 'tin', 'today', 'told', 'took', 'total', 'tried', 'true', 'truth', 'try', 'trying', 'turkish', 'turn', 'type', 'understand', 'unit', 'united', 'university', 'unix', 'unless', 'usa', 'use', 'used', 'user', 'using', 'usually', 'value', 'various', 'version', 'video', 'view', 'wa', 'want', 'wanted', 'war', 'water', 'way', 'weapon', 'week', 'went', 'western', 'white', 'widget', 'willing', 'win', 'window', 'woman', 'word', 'work', 'working', 'world', 'write', 'written', 'wrong', 'year', 'york', 'young']\n"
     ]
    }
   ],
   "source": [
    "from sklearn.feature_extraction.text import CountVectorizer\n",
    "from nltk.corpus import names\n",
    "from nltk.stem import WordNetLemmatizer\n",
    "from sklearn.cluster import KMeans\n",
    "import matplotlib.pyplot as plt\n",
    "\n",
    "\n",
    "def letters_only(astr):\n",
    "    for c in astr:\n",
    "        if not c.isalpha():\n",
    "            return False\n",
    "\n",
    "    return True\n",
    "\n",
    "\n",
    "cv = CountVectorizer(stop_words=\"english\", max_features=500)\n",
    "groups = fetch_20newsgroups()\n",
    "cleaned = []\n",
    "all_names = set(names.words())\n",
    "lemmatizer = WordNetLemmatizer()\n",
    "\n",
    "\n",
    "for post in groups.data:\n",
    "    cleaned.append(' '.join([lemmatizer.lemmatize(word.lower())\n",
    "                             for word in post.split()\n",
    "                             if letters_only(word)\n",
    "                             and word not in all_names]))\n",
    "\n",
    "    \n",
    "transformed = cv.fit_transform(cleaned)\n",
    "print(cv.get_feature_names())"
   ]
  },
  {
   "cell_type": "markdown",
   "metadata": {},
   "source": [
    "### Data Clustering"
   ]
  },
  {
   "cell_type": "code",
   "execution_count": 7,
   "metadata": {},
   "outputs": [
    {
     "data": {
      "image/png": "[encoded data removed]",
      "text/plain": [
       "<Figure size 432x288 with 1 Axes>"
      ]
     },
     "metadata": {
      "needs_background": "light"
     },
     "output_type": "display_data"
    }
   ],
   "source": [
    "km = KMeans(n_clusters=20)\n",
    "km.fit(transformed)\n",
    "labels = groups.target\n",
    "plt.scatter(labels, km.labels_)\n",
    "plt.xlabel('Newsgroup')\n",
    "plt.ylabel('Cluster')\n",
    "plt.show()"
   ]
  },
  {
   "cell_type": "markdown",
   "metadata": {},
   "source": [
    "### Topic modeling"
   ]
  },
  {
   "cell_type": "code",
   "execution_count": 8,
   "metadata": {},
   "outputs": [
    {
     "name": "stdout",
     "output_type": "stream",
     "text": [
      "0:  wa thought later took left order seen taken\n",
      "1:  db bit data place stuff add time line\n",
      "2:  server using display screen support code mouse application\n",
      "3:  file section information write source change entry number\n",
      "4:  disk drive hard controller support card board head\n",
      "5:  entry rule program source number info email build\n",
      "6:  new york sale change service result study early\n",
      "7:  image software user package using display include support\n",
      "8:  window manager application using offer user information course\n",
      "9:  gun united control house american second national issue\n",
      "10:  hockey league team game division player list san\n",
      "11:  turkish government sent war study came american world\n",
      "12:  program change technology display information version application rate\n",
      "13:  space nasa technology service national international small communication\n",
      "14:  government political federal sure free private local country\n",
      "15:  output line open write read return build section\n",
      "16:  people country doing tell live killed lot saying\n",
      "17:  widget application value set type return function list\n",
      "18:  child case rate le report area research group\n",
      "19:  jew jewish world war history help research arab\n",
      "20:  armenian russian muslim turkish world city road today\n",
      "21:  president said group tax press working package job\n",
      "22:  ground box usually power code current house white\n",
      "23:  russian president american support food money important private\n",
      "24:  ibm color week memory hardware monitor software standard\n",
      "25:  anonymous posting service server user group message post\n",
      "26:  la win san went list year radio near\n",
      "27:  work job young school lot private create business\n",
      "28:  encryption technology access device policy security government data\n",
      "29:  tape driver work memory using cause note following\n",
      "30:  war military world attack way united russian force\n",
      "31:  god bible shall man come life hell love\n",
      "32:  atheist religious religion belief god sort feel idea\n",
      "33:  data available information user research set model based\n",
      "34:  center research medical institute national study test north\n",
      "35:  think lot try trying talk kind agree certainly\n",
      "36:  water city division list public similar north high\n",
      "37:  section military shall weapon person division application mean\n",
      "38:  good cover great pretty probably bad issue life\n",
      "39:  drive head single mode set using model type\n",
      "40:  israeli arab attack policy true apr fact stop\n",
      "41:  use note using usually similar available standard work\n",
      "42:  know tell way come sure understand let saw\n",
      "43:  car speed driver change high buy different design\n",
      "44:  internet email address information anonymous user network mail\n",
      "45:  like look sound long little guy pretty having\n",
      "46:  going come way mean kind sure working got\n",
      "47:  state united public national political federal member local\n",
      "48:  dod bike member computer list started live email\n",
      "49:  greek killed act word western muslim turkish talk\n",
      "50:  computer information public internet list issue network communication\n",
      "51:  law act federal specific issue clear order moral\n",
      "52:  book read reference list copy second study offer\n",
      "53:  argument form true evidence event truth particular known\n",
      "54:  make sense difference little sure making end tell\n",
      "55:  scsi hard pc drive device bus different data\n",
      "56:  time long having able lot order light response\n",
      "57:  gun rate crime city death study control difference\n",
      "58:  right second free shall security mean left american\n",
      "59:  went came said told started saw took woman\n",
      "60:  power period second san special le play goal\n",
      "61:  used using product way function version note single\n",
      "62:  problem work having using help apple running error\n",
      "63:  available version widget server includes sun set support\n",
      "64:  question answer ask asked science reason claim post\n",
      "65:  san information police said group league political including\n",
      "66:  number serial large men report following million le\n",
      "67:  year ago old best sale hit long project\n",
      "68:  want help let life reason trying copy tell\n",
      "69:  point way different line algorithm exactly idea view\n",
      "70:  run running home version start hit win speed\n",
      "71:  got shot play took goal went hit lead\n",
      "72:  thing saw sure got trying kind seen asked\n",
      "73:  graphic send mail message package server various computer\n",
      "74:  university science department general computer thanks engineering texas\n",
      "75:  just maybe start thought big probably look getting\n",
      "76:  key message public security algorithm standard method attack\n",
      "77:  doe mean anybody actually different ask reading difference\n",
      "78:  game win sound play left second lead great\n",
      "79:  ha able called taken given past exactly looking\n",
      "80:  believe belief christian truth evidence claim mean different\n",
      "81:  drug study information war group reason usa evidence\n",
      "82:  need help phone able needed kind thanks bike\n",
      "83:  did death let money fact man wanted body\n",
      "84:  chip clipper serial algorithm phone communication encryption key\n",
      "85:  card driver video support mode mouse board bus\n",
      "86:  church christian member group true bible different view\n",
      "87:  ftp available anonymous general nasa package source version\n",
      "88:  better player best play probably hit maybe big\n",
      "89:  human life person moral kill claim reason world\n",
      "90:  bit using let change mode attack size quite\n",
      "91:  say mean word act clear said read simply\n",
      "92:  health medical public national care study service user\n",
      "93:  article post usa read world discussion opinion gmt\n",
      "94:  team player win play city look bad great\n",
      "95:  day come word christian said tell little way\n",
      "96:  really lot sure look fact idea actually feel\n",
      "97:  unit disk size serial total national got return\n",
      "98:  image color version free available display current better\n",
      "99:  woman men muslim religion way man great world\n"
     ]
    }
   ],
   "source": [
    "from sklearn.decomposition import NMF\n",
    "nmf = NMF(n_components=100, random_state=43).fit(transformed)\n",
    "\n",
    "for topic_idx, topic in enumerate(nmf.components_):\n",
    "    label = '{}: '.format(topic_idx)\n",
    "    print(label, \" \".join([cv.get_feature_names()[i]\n",
    "                           for i in topic.argsort()[:-9:-1]]))"
   ]
  },
  {
   "cell_type": "code",
   "execution_count": null,
   "metadata": {},
   "outputs": [],
   "source": []
  }
 ],
 "metadata": {
  "kernelspec": {
   "display_name": "Python 3",
   "language": "python",
   "name": "python3"
  },
  "language_info": {
   "codemirror_mode": {
    "name": "ipython",
    "version": 3
   },
   "file_extension": ".py",
   "mimetype": "text/x-python",
   "name": "python",
   "nbconvert_exporter": "python",
   "pygments_lexer": "ipython3",
   "version": "3.6.5"
  }
 },
 "nbformat": 4,
 "nbformat_minor": 2
}
